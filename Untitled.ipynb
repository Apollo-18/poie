{
 "cells": [
  {
   "cell_type": "code",
   "execution_count": 94,
   "metadata": {
    "collapsed": false
   },
   "outputs": [],
   "source": [
    "import numpy as np\n",
    "import skimage\n",
    "import skimage.io\n",
    "import skimage.morphology\n",
    "import numba\n",
    "\n",
    "\n",
    "def to_uint8(img):\n",
    "    return np.clip(img, 0, 255).astype(np.uint8)\n",
    "\n",
    "\n",
    "def laplacian(img):\n",
    "    return (np.roll(img, 1, 0) + np.roll(img, -1, 0) +\n",
    "            np.roll(img, 1, 1) + np.roll(img, -1, 1) -\n",
    "            4 * img)\n",
    "\n",
    "\n",
    "def laplacian_absmax(img1, img2):\n",
    "    def absmax(a, b):\n",
    "        return np.where(np.abs(a) > np.abs(b), a, b)\n",
    "    \n",
    "    res = np.zeros_like(img1)\n",
    "    for axis in [0, 1]:\n",
    "        for delta in [-1, 1]:\n",
    "            res += absmax(np.roll(img1, delta, axis) - img1,\n",
    "                          np.roll(img2, delta, axis) - img2)\n",
    "    return res\n",
    "\n",
    "\n",
    "@numba.jit\n",
    "def poisson1(mask, sol, rhs):\n",
    "    assert sol.shape[:2] == mask.shape[:2] == rhs.shape[:2], 'Dimensions should be equal'\n",
    "    for i in range(1, sol.shape[0] - 1):\n",
    "        for j in range(1, sol.shape[1] - 1):\n",
    "            if mask[i, j]:\n",
    "                sol[i, j, :] = (sol[i - 1, j, :] + sol[i + 1, j, :] +\n",
    "                                    sol[i, j - 1, :] + sol[i, j + 1, :] -\n",
    "                                    rhs[i, j, :]) / 4\n",
    "                    \n",
    "                    \n",
    "def poisson(n, mask, sol, rhs):\n",
    "    for i in range(n):\n",
    "        poisson1(mask, sol, rhs)\n",
    "    return sol\n",
    "\n",
    "\n",
    "back = skimage.io.imread('back_4.png').astype(float)[:, :, :3]\n",
    "fore = skimage.io.imread('fore_4.png').astype(float)[:, :, :3]\n",
    "mask = skimage.morphology.binary_erosion((fore != 0).any(axis=2), np.ones((3, 3)))\n",
    "\n",
    "clone = back.copy()\n",
    "clone[mask] = fore[mask]\n",
    "skimage.io.imsave('clone.png', to_uint8(clone))\n",
    "\n",
    "laplace = poisson(100, mask, back.copy(), np.zeros_like(back))\n",
    "skimage.io.imsave('laplace.png', to_uint8(laplace))\n",
    "\n",
    "imported = poisson(100, mask, back.copy(), laplacian(fore))\n",
    "skimage.io.imsave('import.png', to_uint8(imported))\n",
    "\n",
    "mixed = poisson(100, mask, back.copy(), laplacian_absmax(fore, back))\n",
    "skimage.io.imsave('mixed.png', to_uint8(mixed))\n",
    "\n",
    "grayscale_back = skimage.color.gray2rgb(skimage.color.rgb2gray(back)).copy()\n",
    "grayscale_back[mask] = back[mask]\n",
    "grayscale = poisson(100, mask, grayscale_back , laplacian(fore))\n",
    "skimage.io.imsave('gray.png', to_uint8(grayscale))\n",
    "\n"
   ]
  },
  {
   "cell_type": "code",
   "execution_count": 95,
   "metadata": {
    "collapsed": false
   },
   "outputs": [],
   "source": [
    "def grad(x):\n",
    "    return [np.roll(x, 1, 0) - x ,\n",
    "          np.roll(x, 1, 1) - x]\n",
    "\n",
    "def laplacian_from_grad(g):\n",
    "    return(g[0] - np.roll(g[0], -1, 0) +\n",
    "          g[1] - np.roll(g[1], -1, 1))\n"
   ]
  },
  {
   "cell_type": "code",
   "execution_count": 96,
   "metadata": {
    "collapsed": false
   },
   "outputs": [],
   "source": [
    "import matplotlib.pyplot as plt\n",
    "%matplotlib inline\n"
   ]
  },
  {
   "cell_type": "code",
   "execution_count": 104,
   "metadata": {
    "collapsed": false
   },
   "outputs": [
    {
     "name": "stdout",
     "output_type": "stream",
     "text": [
      "0.110494500043 0.0932769656623\n",
      "0.0\n"
     ]
    }
   ],
   "source": [
    "#local illum changes\n",
    "back = skimage.io.imread('back_6.png').astype(float)[:, :, :3]\n",
    "fore = skimage.io.imread('fore_6.png').astype(float)[:, :, :3]\n",
    "mask = skimage.morphology.binary_erosion((fore != 0).any(axis=2), np.ones((3, 3)))\n",
    "eps = 1e-1\n",
    "img = np.log(back + eps)\n",
    "img_grad = grad(img)\n",
    "grad_norms = np.sqrt(np.square(img_grad[0]) + np.square(img_grad[1]))\n",
    "avg_grad_norm = np.mean(grad_norms[mask])\n",
    "print(avg_grad_norm, np.mean(grad_norms))\n",
    "beta = 0.2\n",
    "alpha = 0.2 * avg_grad_norm\n",
    "grad_target = [alpha**beta * np.abs(grad_norms + eps)**(-beta) * img_grad[0],\n",
    "               alpha**beta * np.abs(grad_norms + eps)**(-beta) * img_grad[1]]\n",
    "print (np.min(grad_norms))\n",
    "laplacian_target = laplacian_from_grad(grad_target)\n",
    "\n",
    "log_illuminated = poisson(100, mask, img.copy(), laplacian_target)\n",
    "skimage.io.imsave('back_6_illuminated.png', to_uint8(np.exp(log_illuminated) - eps))\n"
   ]
  },
  {
   "cell_type": "code",
   "execution_count": 85,
   "metadata": {
    "collapsed": false
   },
   "outputs": [],
   "source": [
    "for beta in np.arange(0.05, 1, 0.05):\n",
    "    for a in np.arange(0.05, 1, 0.07):\n",
    "        alpha = a * avg_grad_norm\n",
    "        grad_target = [alpha**beta * np.abs(grad_norms + eps)**(-beta) * img_grad[0],\n",
    "               alpha**beta * np.abs(grad_norms + eps)**(-beta) * img_grad[1]]\n",
    "        laplacian_target = laplacian_from_grad(grad_target)\n",
    "\n",
    "        log_illuminated = poisson(100, mask, img.copy(), laplacian_target)\n",
    "        skimage.io.imsave('zilluminated ' + str(int(100 * a)) + \" \" + str(int(100 * beta)) + '.png',\n",
    "                                                                            to_uint8(np.exp(log_illuminated) - eps))\n",
    "        "
   ]
  }
 ],
 "metadata": {
  "kernelspec": {
   "display_name": "Python 3",
   "language": "python",
   "name": "python3"
  },
  "language_info": {
   "codemirror_mode": {
    "name": "ipython",
    "version": 3
   },
   "file_extension": ".py",
   "mimetype": "text/x-python",
   "name": "python",
   "nbconvert_exporter": "python",
   "pygments_lexer": "ipython3",
   "version": "3.6.0"
  }
 },
 "nbformat": 4,
 "nbformat_minor": 2
}
